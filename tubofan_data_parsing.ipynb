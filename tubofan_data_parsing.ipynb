{
 "cells": [
  {
   "cell_type": "markdown",
   "source": [
    "# Making training data"
   ],
   "metadata": {
    "collapsed": false,
    "pycharm": {
     "name": "#%% md\n"
    }
   }
  },
  {
   "cell_type": "code",
   "execution_count": 1,
   "metadata": {
    "collapsed": true,
    "pycharm": {
     "name": "#%%\n"
    }
   },
   "outputs": [],
   "source": [
    "import pandas as pd\n",
    "import numpy as np"
   ]
  },
  {
   "cell_type": "code",
   "execution_count": 2,
   "outputs": [],
   "source": [
    "import seaborn as sns\n",
    "import matplotlib.pyplot as plt"
   ],
   "metadata": {
    "collapsed": false,
    "pycharm": {
     "name": "#%%\n"
    }
   }
  },
  {
   "cell_type": "code",
   "execution_count": 3,
   "outputs": [
    {
     "name": "stdout",
     "output_type": "stream",
     "text": [
      "['unit_number', 'time', 'op_setting1', 'op_setting2', 'op_setting3', 'sen_measurement1', 'sen_measurement2', 'sen_measurement3', 'sen_measurement4', 'sen_measurement5', 'sen_measurement6', 'sen_measurement7', 'sen_measurement8', 'sen_measurement9', 'sen_measurement10', 'sen_measurement11', 'sen_measurement12', 'sen_measurement13', 'sen_measurement14', 'sen_measurement15', 'sen_measurement16', 'sen_measurement17', 'sen_measurement18', 'sen_measurement19', 'sen_measurement20', 'sen_measurement21'] \n",
      "Column length: 26\n"
     ]
    }
   ],
   "source": [
    "column = ['unit_number','time','op_setting1','op_setting2','op_setting3']\n",
    "for i in range (0,21):\n",
    "        let = str(i+1)\n",
    "        word = 'sen_measurement'+let\n",
    "        column.append(word)\n",
    "print(column,'\\nColumn length:',len(column))"
   ],
   "metadata": {
    "collapsed": false,
    "pycharm": {
     "name": "#%%\n"
    }
   }
  },
  {
   "cell_type": "code",
   "execution_count": 4,
   "outputs": [],
   "source": [
    "file_no = 4\n",
    "train_df = pd.read_csv('Turbofan engine/train_FD00{}.txt'.format(file_no), sep=' ',header=None)"
   ],
   "metadata": {
    "collapsed": false,
    "pycharm": {
     "name": "#%%\n"
    }
   }
  },
  {
   "cell_type": "code",
   "execution_count": 5,
   "outputs": [],
   "source": [
    "train_df = train_df.drop([26,27], axis = 1)\n",
    "train_df.columns = column"
   ],
   "metadata": {
    "collapsed": false,
    "pycharm": {
     "name": "#%%\n"
    }
   }
  },
  {
   "cell_type": "code",
   "execution_count": null,
   "outputs": [],
   "source": [
    "rul = pd.DataFrame(train_df.groupby('unit_number')['time'].max()).reset_index()\n",
    "rul.columns = ['unit_number', 'max']\n",
    "train_df = train_df.merge(rul, on=['unit_number'], how='left')\n",
    "train_df['RUL'] = train_df['max'] - train_df['time']\n",
    "train_df.drop('max', axis=1, inplace=True)"
   ],
   "metadata": {
    "collapsed": false,
    "pycharm": {
     "name": "#%%\n",
     "is_executing": true
    }
   }
  },
  {
   "cell_type": "code",
   "execution_count": 7,
   "outputs": [
    {
     "data": {
      "text/plain": "       unit_number  time  op_setting1  op_setting2  op_setting3  \\\n0                1     1      42.0049       0.8400        100.0   \n1                1     2      20.0020       0.7002        100.0   \n2                1     3      42.0038       0.8409        100.0   \n3                1     4      42.0000       0.8400        100.0   \n4                1     5      25.0063       0.6207         60.0   \n...            ...   ...          ...          ...          ...   \n61244          249   251       9.9998       0.2500        100.0   \n61245          249   252       0.0028       0.0015        100.0   \n61246          249   253       0.0029       0.0000        100.0   \n61247          249   254      35.0046       0.8400        100.0   \n61248          249   255      42.0030       0.8400        100.0   \n\n       sen_measurement1  sen_measurement2  sen_measurement3  sen_measurement4  \\\n0                445.00            549.68           1343.43           1112.93   \n1                491.19            606.07           1477.61           1237.50   \n2                445.00            548.95           1343.12           1117.05   \n3                445.00            548.70           1341.24           1118.03   \n4                462.54            536.10           1255.23           1033.59   \n...                 ...               ...               ...               ...   \n61244            489.05            605.33           1516.36           1315.28   \n61245            518.67            643.42           1598.92           1426.77   \n61246            518.67            643.68           1607.72           1430.56   \n61247            449.44            555.77           1381.29           1148.18   \n61248            445.00            549.85           1369.75           1147.45   \n\n       sen_measurement5  ...  sen_measurement13  sen_measurement14  \\\n0                  3.91  ...            2387.99            8074.83   \n1                  9.35  ...            2387.73            8046.13   \n2                  3.91  ...            2387.97            8066.62   \n3                  3.91  ...            2388.02            8076.05   \n4                  7.05  ...            2028.08            7865.80   \n...                 ...  ...                ...                ...   \n61244             10.52  ...            2388.73            8185.69   \n61245             14.62  ...            2388.46            8185.47   \n61246             14.62  ...            2388.48            8193.94   \n61247              5.48  ...            2388.83            8125.64   \n61248              3.91  ...            2388.66            8144.33   \n\n       sen_measurement15  sen_measurement16  sen_measurement17  \\\n0                 9.3335               0.02                330   \n1                 9.1913               0.02                361   \n2                 9.4007               0.02                329   \n3                 9.3369               0.02                328   \n4                10.8366               0.02                305   \n...                  ...                ...                ...   \n61244             8.4541               0.03                372   \n61245             8.2221               0.03                396   \n61246             8.2525               0.03                395   \n61247             9.0515               0.02                337   \n61248             9.1207               0.02                333   \n\n       sen_measurement18  sen_measurement19  sen_measurement20  \\\n0                   2212             100.00              10.62   \n1                   2324             100.00              24.37   \n2                   2212             100.00              10.48   \n3                   2212             100.00              10.54   \n4                   1915              84.93              14.03   \n...                  ...                ...                ...   \n61244               2319             100.00              29.11   \n61245               2388             100.00              39.38   \n61246               2388             100.00              39.78   \n61247               2223             100.00              15.26   \n61248               2212             100.00              10.66   \n\n       sen_measurement21  RUL  \n0                 6.3670  320  \n1                14.6552  319  \n2                 6.4213  318  \n3                 6.4176  317  \n4                 8.6754  316  \n...                  ...  ...  \n61244            17.5234    4  \n61245            23.7151    3  \n61246            23.8270    2  \n61247             9.0774    1  \n61248             6.4341    0  \n\n[61249 rows x 27 columns]",
      "text/html": "<div>\n<style scoped>\n    .dataframe tbody tr th:only-of-type {\n        vertical-align: middle;\n    }\n\n    .dataframe tbody tr th {\n        vertical-align: top;\n    }\n\n    .dataframe thead th {\n        text-align: right;\n    }\n</style>\n<table border=\"1\" class=\"dataframe\">\n  <thead>\n    <tr style=\"text-align: right;\">\n      <th></th>\n      <th>unit_number</th>\n      <th>time</th>\n      <th>op_setting1</th>\n      <th>op_setting2</th>\n      <th>op_setting3</th>\n      <th>sen_measurement1</th>\n      <th>sen_measurement2</th>\n      <th>sen_measurement3</th>\n      <th>sen_measurement4</th>\n      <th>sen_measurement5</th>\n      <th>...</th>\n      <th>sen_measurement13</th>\n      <th>sen_measurement14</th>\n      <th>sen_measurement15</th>\n      <th>sen_measurement16</th>\n      <th>sen_measurement17</th>\n      <th>sen_measurement18</th>\n      <th>sen_measurement19</th>\n      <th>sen_measurement20</th>\n      <th>sen_measurement21</th>\n      <th>RUL</th>\n    </tr>\n  </thead>\n  <tbody>\n    <tr>\n      <th>0</th>\n      <td>1</td>\n      <td>1</td>\n      <td>42.0049</td>\n      <td>0.8400</td>\n      <td>100.0</td>\n      <td>445.00</td>\n      <td>549.68</td>\n      <td>1343.43</td>\n      <td>1112.93</td>\n      <td>3.91</td>\n      <td>...</td>\n      <td>2387.99</td>\n      <td>8074.83</td>\n      <td>9.3335</td>\n      <td>0.02</td>\n      <td>330</td>\n      <td>2212</td>\n      <td>100.00</td>\n      <td>10.62</td>\n      <td>6.3670</td>\n      <td>320</td>\n    </tr>\n    <tr>\n      <th>1</th>\n      <td>1</td>\n      <td>2</td>\n      <td>20.0020</td>\n      <td>0.7002</td>\n      <td>100.0</td>\n      <td>491.19</td>\n      <td>606.07</td>\n      <td>1477.61</td>\n      <td>1237.50</td>\n      <td>9.35</td>\n      <td>...</td>\n      <td>2387.73</td>\n      <td>8046.13</td>\n      <td>9.1913</td>\n      <td>0.02</td>\n      <td>361</td>\n      <td>2324</td>\n      <td>100.00</td>\n      <td>24.37</td>\n      <td>14.6552</td>\n      <td>319</td>\n    </tr>\n    <tr>\n      <th>2</th>\n      <td>1</td>\n      <td>3</td>\n      <td>42.0038</td>\n      <td>0.8409</td>\n      <td>100.0</td>\n      <td>445.00</td>\n      <td>548.95</td>\n      <td>1343.12</td>\n      <td>1117.05</td>\n      <td>3.91</td>\n      <td>...</td>\n      <td>2387.97</td>\n      <td>8066.62</td>\n      <td>9.4007</td>\n      <td>0.02</td>\n      <td>329</td>\n      <td>2212</td>\n      <td>100.00</td>\n      <td>10.48</td>\n      <td>6.4213</td>\n      <td>318</td>\n    </tr>\n    <tr>\n      <th>3</th>\n      <td>1</td>\n      <td>4</td>\n      <td>42.0000</td>\n      <td>0.8400</td>\n      <td>100.0</td>\n      <td>445.00</td>\n      <td>548.70</td>\n      <td>1341.24</td>\n      <td>1118.03</td>\n      <td>3.91</td>\n      <td>...</td>\n      <td>2388.02</td>\n      <td>8076.05</td>\n      <td>9.3369</td>\n      <td>0.02</td>\n      <td>328</td>\n      <td>2212</td>\n      <td>100.00</td>\n      <td>10.54</td>\n      <td>6.4176</td>\n      <td>317</td>\n    </tr>\n    <tr>\n      <th>4</th>\n      <td>1</td>\n      <td>5</td>\n      <td>25.0063</td>\n      <td>0.6207</td>\n      <td>60.0</td>\n      <td>462.54</td>\n      <td>536.10</td>\n      <td>1255.23</td>\n      <td>1033.59</td>\n      <td>7.05</td>\n      <td>...</td>\n      <td>2028.08</td>\n      <td>7865.80</td>\n      <td>10.8366</td>\n      <td>0.02</td>\n      <td>305</td>\n      <td>1915</td>\n      <td>84.93</td>\n      <td>14.03</td>\n      <td>8.6754</td>\n      <td>316</td>\n    </tr>\n    <tr>\n      <th>...</th>\n      <td>...</td>\n      <td>...</td>\n      <td>...</td>\n      <td>...</td>\n      <td>...</td>\n      <td>...</td>\n      <td>...</td>\n      <td>...</td>\n      <td>...</td>\n      <td>...</td>\n      <td>...</td>\n      <td>...</td>\n      <td>...</td>\n      <td>...</td>\n      <td>...</td>\n      <td>...</td>\n      <td>...</td>\n      <td>...</td>\n      <td>...</td>\n      <td>...</td>\n      <td>...</td>\n    </tr>\n    <tr>\n      <th>61244</th>\n      <td>249</td>\n      <td>251</td>\n      <td>9.9998</td>\n      <td>0.2500</td>\n      <td>100.0</td>\n      <td>489.05</td>\n      <td>605.33</td>\n      <td>1516.36</td>\n      <td>1315.28</td>\n      <td>10.52</td>\n      <td>...</td>\n      <td>2388.73</td>\n      <td>8185.69</td>\n      <td>8.4541</td>\n      <td>0.03</td>\n      <td>372</td>\n      <td>2319</td>\n      <td>100.00</td>\n      <td>29.11</td>\n      <td>17.5234</td>\n      <td>4</td>\n    </tr>\n    <tr>\n      <th>61245</th>\n      <td>249</td>\n      <td>252</td>\n      <td>0.0028</td>\n      <td>0.0015</td>\n      <td>100.0</td>\n      <td>518.67</td>\n      <td>643.42</td>\n      <td>1598.92</td>\n      <td>1426.77</td>\n      <td>14.62</td>\n      <td>...</td>\n      <td>2388.46</td>\n      <td>8185.47</td>\n      <td>8.2221</td>\n      <td>0.03</td>\n      <td>396</td>\n      <td>2388</td>\n      <td>100.00</td>\n      <td>39.38</td>\n      <td>23.7151</td>\n      <td>3</td>\n    </tr>\n    <tr>\n      <th>61246</th>\n      <td>249</td>\n      <td>253</td>\n      <td>0.0029</td>\n      <td>0.0000</td>\n      <td>100.0</td>\n      <td>518.67</td>\n      <td>643.68</td>\n      <td>1607.72</td>\n      <td>1430.56</td>\n      <td>14.62</td>\n      <td>...</td>\n      <td>2388.48</td>\n      <td>8193.94</td>\n      <td>8.2525</td>\n      <td>0.03</td>\n      <td>395</td>\n      <td>2388</td>\n      <td>100.00</td>\n      <td>39.78</td>\n      <td>23.8270</td>\n      <td>2</td>\n    </tr>\n    <tr>\n      <th>61247</th>\n      <td>249</td>\n      <td>254</td>\n      <td>35.0046</td>\n      <td>0.8400</td>\n      <td>100.0</td>\n      <td>449.44</td>\n      <td>555.77</td>\n      <td>1381.29</td>\n      <td>1148.18</td>\n      <td>5.48</td>\n      <td>...</td>\n      <td>2388.83</td>\n      <td>8125.64</td>\n      <td>9.0515</td>\n      <td>0.02</td>\n      <td>337</td>\n      <td>2223</td>\n      <td>100.00</td>\n      <td>15.26</td>\n      <td>9.0774</td>\n      <td>1</td>\n    </tr>\n    <tr>\n      <th>61248</th>\n      <td>249</td>\n      <td>255</td>\n      <td>42.0030</td>\n      <td>0.8400</td>\n      <td>100.0</td>\n      <td>445.00</td>\n      <td>549.85</td>\n      <td>1369.75</td>\n      <td>1147.45</td>\n      <td>3.91</td>\n      <td>...</td>\n      <td>2388.66</td>\n      <td>8144.33</td>\n      <td>9.1207</td>\n      <td>0.02</td>\n      <td>333</td>\n      <td>2212</td>\n      <td>100.00</td>\n      <td>10.66</td>\n      <td>6.4341</td>\n      <td>0</td>\n    </tr>\n  </tbody>\n</table>\n<p>61249 rows × 27 columns</p>\n</div>"
     },
     "execution_count": 7,
     "metadata": {},
     "output_type": "execute_result"
    }
   ],
   "source": [
    "train_df"
   ],
   "metadata": {
    "collapsed": false,
    "pycharm": {
     "name": "#%%\n"
    }
   }
  },
  {
   "cell_type": "code",
   "execution_count": 52,
   "outputs": [
    {
     "name": "stdout",
     "output_type": "stream",
     "text": [
      "['unit_number', 'time', 'op_setting1', 'op_setting2', 'op_setting3', 'sen_measurement1', 'sen_measurement5', 'sen_measurement6', 'sen_measurement7', 'sen_measurement10', 'sen_measurement12', 'sen_measurement14', 'sen_measurement15', 'sen_measurement16', 'sen_measurement18', 'sen_measurement19', 'sen_measurement20', 'sen_measurement21']\n"
     ]
    },
    {
     "name": "stderr",
     "output_type": "stream",
     "text": [
      "C:\\Users\\DeTa5\\anaconda3\\envs\\tf-gpu\\lib\\site-packages\\numpy\\lib\\function_base.py:2897: RuntimeWarning: invalid value encountered in divide\n",
      "  c /= stddev[:, None]\n",
      "C:\\Users\\DeTa5\\anaconda3\\envs\\tf-gpu\\lib\\site-packages\\numpy\\lib\\function_base.py:2898: RuntimeWarning: invalid value encountered in divide\n",
      "  c /= stddev[None, :]\n"
     ]
    }
   ],
   "source": [
    "del_column = []\n",
    "for col in train_df.columns:\n",
    "    corr = train_df[col].corr(train_df['RUL'])\n",
    "    if abs(corr) > 0.5:\n",
    "        pass\n",
    "    else:\n",
    "        del_column.append(col)\n",
    "\n",
    "print(del_column)"
   ],
   "metadata": {
    "collapsed": false,
    "pycharm": {
     "name": "#%%\n"
    }
   }
  },
  {
   "cell_type": "code",
   "execution_count": 53,
   "outputs": [],
   "source": [
    "train_df.drop(columns=del_column, inplace=True)\n",
    "train_df.to_csv('train_FD00{}_selected_features.csv'.format(file_no), index=False)"
   ],
   "metadata": {
    "collapsed": false,
    "pycharm": {
     "name": "#%%\n"
    }
   }
  },
  {
   "cell_type": "markdown",
   "source": [
    "# Making test data"
   ],
   "metadata": {
    "collapsed": false,
    "pycharm": {
     "name": "#%% md\n"
    }
   }
  },
  {
   "cell_type": "code",
   "execution_count": 54,
   "outputs": [
    {
     "name": "stdout",
     "output_type": "stream",
     "text": [
      "['unit_number', 'time', 'op_setting1', 'op_setting2', 'op_setting3', 'sen_measurement1', 'sen_measurement2', 'sen_measurement3', 'sen_measurement4', 'sen_measurement5', 'sen_measurement6', 'sen_measurement7', 'sen_measurement8', 'sen_measurement9', 'sen_measurement10', 'sen_measurement11', 'sen_measurement12', 'sen_measurement13', 'sen_measurement14', 'sen_measurement15', 'sen_measurement16', 'sen_measurement17', 'sen_measurement18', 'sen_measurement19', 'sen_measurement20', 'sen_measurement21'] \n",
      "Column length: 26\n"
     ]
    }
   ],
   "source": [
    "column = ['unit_number','time','op_setting1','op_setting2','op_setting3']\n",
    "for i in range (0,21):\n",
    "        let = str(i+1)\n",
    "        word = 'sen_measurement'+let\n",
    "        column.append(word)\n",
    "print(column,'\\nColumn length:',len(column))"
   ],
   "metadata": {
    "collapsed": false,
    "pycharm": {
     "name": "#%%\n"
    }
   }
  },
  {
   "cell_type": "code",
   "execution_count": 56,
   "outputs": [],
   "source": [
    "raw_data = pd.read_csv('Turbofan engine/test_FD001.txt', sep=' ', header = None)\n",
    "raw_data = raw_data.drop([26,27], axis=1)\n",
    "raw_data.columns = column\n",
    "\n",
    "\n",
    "given_no_of_cycles=[]\n",
    "for i in range (1,len(raw_data['unit_number'].unique())+1):\n",
    "    given_no_of_cycles.append(len(raw_data[raw_data['unit_number']==i]))\n",
    "given_no_of_cycles=np.array(given_no_of_cycles).reshape([len(given_no_of_cycles),1])\n",
    "cycle_ran_after = pd.read_csv('Turbofan engine/RUL_FD00{}.txt'.format(file_no), sep=' ', header = None)\n",
    "cycle_ran_after=cycle_ran_after.drop([1], axis='columns')\n",
    "cycle_ran_after = np.array(cycle_ran_after)\n",
    "\n",
    "EOL=[]\n",
    "for i in raw_data['unit_number']:\n",
    "        EOL.append(given_no_of_cycles[i-1]+cycle_ran_after[i-1] )\n",
    "EOL = np.array(EOL).reshape([len(EOL),1])\n",
    "raw_data['EOL']=EOL\n",
    "raw_data[\"RUL\"] = raw_data[\"EOL\"]-raw_data[\"time\"]\n",
    "del_column.append('EOL')\n",
    "raw_data=raw_data.drop(columns=del_column)\n",
    "#processed_data=raw_data.drop(columns=del_columns)"
   ],
   "metadata": {
    "collapsed": false,
    "pycharm": {
     "name": "#%%\n"
    }
   }
  },
  {
   "cell_type": "code",
   "execution_count": 57,
   "outputs": [
    {
     "data": {
      "text/plain": "       sen_measurement2  sen_measurement3  sen_measurement4  sen_measurement8  \\\n0                643.02           1585.29           1398.21           2388.04   \n1                641.71           1588.45           1395.42           2388.01   \n2                642.46           1586.94           1401.34           2388.05   \n3                642.44           1584.12           1406.42           2388.03   \n4                642.51           1587.19           1401.92           2388.01   \n...                 ...               ...               ...               ...   \n13091            643.24           1599.45           1415.79           2388.02   \n13092            643.22           1595.69           1422.05           2388.05   \n13093            643.44           1593.15           1406.82           2388.11   \n13094            643.26           1594.99           1419.36           2388.07   \n13095            642.95           1601.62           1424.99           2388.06   \n\n       sen_measurement9  sen_measurement11  sen_measurement13  \\\n0               9050.17              47.20            2388.03   \n1               9054.42              47.50            2388.06   \n2               9056.96              47.50            2388.03   \n3               9045.29              47.28            2388.05   \n4               9044.55              47.31            2388.03   \n...                 ...                ...                ...   \n13091           9142.37              47.69            2388.00   \n13092           9140.68              47.60            2388.09   \n13093           9146.81              47.57            2388.04   \n13094           9148.85              47.61            2388.08   \n13095           9155.03              47.80            2388.05   \n\n       sen_measurement17  RUL  \n0                    392   74  \n1                    393   73  \n2                    393   72  \n3                    391   71  \n4                    390   70  \n...                  ...  ...  \n13091                394   32  \n13092                395   31  \n13093                395   30  \n13094                395   29  \n13095                396   28  \n\n[13096 rows x 9 columns]",
      "text/html": "<div>\n<style scoped>\n    .dataframe tbody tr th:only-of-type {\n        vertical-align: middle;\n    }\n\n    .dataframe tbody tr th {\n        vertical-align: top;\n    }\n\n    .dataframe thead th {\n        text-align: right;\n    }\n</style>\n<table border=\"1\" class=\"dataframe\">\n  <thead>\n    <tr style=\"text-align: right;\">\n      <th></th>\n      <th>sen_measurement2</th>\n      <th>sen_measurement3</th>\n      <th>sen_measurement4</th>\n      <th>sen_measurement8</th>\n      <th>sen_measurement9</th>\n      <th>sen_measurement11</th>\n      <th>sen_measurement13</th>\n      <th>sen_measurement17</th>\n      <th>RUL</th>\n    </tr>\n  </thead>\n  <tbody>\n    <tr>\n      <th>0</th>\n      <td>643.02</td>\n      <td>1585.29</td>\n      <td>1398.21</td>\n      <td>2388.04</td>\n      <td>9050.17</td>\n      <td>47.20</td>\n      <td>2388.03</td>\n      <td>392</td>\n      <td>74</td>\n    </tr>\n    <tr>\n      <th>1</th>\n      <td>641.71</td>\n      <td>1588.45</td>\n      <td>1395.42</td>\n      <td>2388.01</td>\n      <td>9054.42</td>\n      <td>47.50</td>\n      <td>2388.06</td>\n      <td>393</td>\n      <td>73</td>\n    </tr>\n    <tr>\n      <th>2</th>\n      <td>642.46</td>\n      <td>1586.94</td>\n      <td>1401.34</td>\n      <td>2388.05</td>\n      <td>9056.96</td>\n      <td>47.50</td>\n      <td>2388.03</td>\n      <td>393</td>\n      <td>72</td>\n    </tr>\n    <tr>\n      <th>3</th>\n      <td>642.44</td>\n      <td>1584.12</td>\n      <td>1406.42</td>\n      <td>2388.03</td>\n      <td>9045.29</td>\n      <td>47.28</td>\n      <td>2388.05</td>\n      <td>391</td>\n      <td>71</td>\n    </tr>\n    <tr>\n      <th>4</th>\n      <td>642.51</td>\n      <td>1587.19</td>\n      <td>1401.92</td>\n      <td>2388.01</td>\n      <td>9044.55</td>\n      <td>47.31</td>\n      <td>2388.03</td>\n      <td>390</td>\n      <td>70</td>\n    </tr>\n    <tr>\n      <th>...</th>\n      <td>...</td>\n      <td>...</td>\n      <td>...</td>\n      <td>...</td>\n      <td>...</td>\n      <td>...</td>\n      <td>...</td>\n      <td>...</td>\n      <td>...</td>\n    </tr>\n    <tr>\n      <th>13091</th>\n      <td>643.24</td>\n      <td>1599.45</td>\n      <td>1415.79</td>\n      <td>2388.02</td>\n      <td>9142.37</td>\n      <td>47.69</td>\n      <td>2388.00</td>\n      <td>394</td>\n      <td>32</td>\n    </tr>\n    <tr>\n      <th>13092</th>\n      <td>643.22</td>\n      <td>1595.69</td>\n      <td>1422.05</td>\n      <td>2388.05</td>\n      <td>9140.68</td>\n      <td>47.60</td>\n      <td>2388.09</td>\n      <td>395</td>\n      <td>31</td>\n    </tr>\n    <tr>\n      <th>13093</th>\n      <td>643.44</td>\n      <td>1593.15</td>\n      <td>1406.82</td>\n      <td>2388.11</td>\n      <td>9146.81</td>\n      <td>47.57</td>\n      <td>2388.04</td>\n      <td>395</td>\n      <td>30</td>\n    </tr>\n    <tr>\n      <th>13094</th>\n      <td>643.26</td>\n      <td>1594.99</td>\n      <td>1419.36</td>\n      <td>2388.07</td>\n      <td>9148.85</td>\n      <td>47.61</td>\n      <td>2388.08</td>\n      <td>395</td>\n      <td>29</td>\n    </tr>\n    <tr>\n      <th>13095</th>\n      <td>642.95</td>\n      <td>1601.62</td>\n      <td>1424.99</td>\n      <td>2388.06</td>\n      <td>9155.03</td>\n      <td>47.80</td>\n      <td>2388.05</td>\n      <td>396</td>\n      <td>28</td>\n    </tr>\n  </tbody>\n</table>\n<p>13096 rows × 9 columns</p>\n</div>"
     },
     "execution_count": 57,
     "metadata": {},
     "output_type": "execute_result"
    }
   ],
   "source": [
    "raw_data"
   ],
   "metadata": {
    "collapsed": false,
    "pycharm": {
     "name": "#%%\n"
    }
   }
  },
  {
   "cell_type": "code",
   "execution_count": 58,
   "outputs": [],
   "source": [
    "raw_data.to_csv('processed_test_data_FD00{}.csv'.format(file_no),index=False)"
   ],
   "metadata": {
    "collapsed": false,
    "pycharm": {
     "name": "#%%\n"
    }
   }
  }
 ],
 "metadata": {
  "kernelspec": {
   "display_name": "Python 3",
   "language": "python",
   "name": "python3"
  },
  "language_info": {
   "codemirror_mode": {
    "name": "ipython",
    "version": 2
   },
   "file_extension": ".py",
   "mimetype": "text/x-python",
   "name": "python",
   "nbconvert_exporter": "python",
   "pygments_lexer": "ipython2",
   "version": "2.7.6"
  }
 },
 "nbformat": 4,
 "nbformat_minor": 0
}
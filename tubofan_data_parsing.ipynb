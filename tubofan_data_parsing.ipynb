{
 "cells": [
  {
   "cell_type": "code",
   "execution_count": 2,
   "metadata": {
    "collapsed": true,
    "pycharm": {
     "name": "#%%\n"
    }
   },
   "outputs": [],
   "source": [
    "import pandas as pd"
   ]
  },
  {
   "cell_type": "code",
   "execution_count": 70,
   "outputs": [
    {
     "name": "stdout",
     "output_type": "stream",
     "text": [
      "['unit_number', 'time', 'op_setting1', 'op_setting2', 'op_setting3', 'sen_measurement1', 'sen_measurement2', 'sen_measurement3', 'sen_measurement4', 'sen_measurement5', 'sen_measurement6', 'sen_measurement7', 'sen_measurement8', 'sen_measurement9', 'sen_measurement10', 'sen_measurement11', 'sen_measurement12', 'sen_measurement13', 'sen_measurement14', 'sen_measurement15', 'sen_measurement16', 'sen_measurement17', 'sen_measurement18', 'sen_measurement19', 'sen_measurement20', 'sen_measurement21'] \n",
      "Column length: 26\n"
     ]
    }
   ],
   "source": [
    "column = ['unit_number','time','op_setting1','op_setting2','op_setting3']\n",
    "for i in range (0,21):\n",
    "        let = str(i+1)\n",
    "        word = 'sen_measurement'+let\n",
    "        column.append(word)\n",
    "print(column,'\\nColumn length:',len(column))"
   ],
   "metadata": {
    "collapsed": false,
    "pycharm": {
     "name": "#%%\n"
    }
   }
  },
  {
   "cell_type": "code",
   "execution_count": 71,
   "outputs": [
    {
     "name": "stdout",
     "output_type": "stream",
     "text": [
      "['unit_number', 'time', 'op_setting1', 'op_setting2', 'op_setting3', 'sen_measurement1', 'sen_measurement2', 'sen_measurement3', 'sen_measurement4', 'sen_measurement5', 'sen_measurement6', 'sen_measurement7', 'sen_measurement8', 'sen_measurement9', 'sen_measurement10', 'sen_measurement11', 'sen_measurement12', 'sen_measurement13', 'sen_measurement14', 'sen_measurement15', 'sen_measurement16', 'sen_measurement17', 'sen_measurement18', 'sen_measurement19', 'sen_measurement20', 'sen_measurement21', 'Dummy_column1', 'Dummy_column2'] \n",
      "Column length: 28\n"
     ]
    }
   ],
   "source": [
    "column.append('Dummy_column1')\n",
    "column.append('Dummy_column2')\n",
    "print(column,'\\nColumn length:',len(column))"
   ],
   "metadata": {
    "collapsed": false,
    "pycharm": {
     "name": "#%%\n"
    }
   }
  },
  {
   "cell_type": "code",
   "execution_count": 72,
   "outputs": [],
   "source": [
    "column2 = column"
   ],
   "metadata": {
    "collapsed": false,
    "pycharm": {
     "name": "#%%\n"
    }
   }
  },
  {
   "cell_type": "code",
   "execution_count": 73,
   "outputs": [],
   "source": [
    "train_df = pd.read_csv('Turbofan engine/train_FD002.txt', sep=' ',header=None)\n",
    "test_df = pd.read_csv('Turbofan engine/test_FD002.txt', sep= \" \",header=None)"
   ],
   "metadata": {
    "collapsed": false,
    "pycharm": {
     "name": "#%%\n"
    }
   }
  },
  {
   "cell_type": "code",
   "execution_count": 74,
   "outputs": [],
   "source": [
    "train_df.columns = column\n",
    "test_df.columns = column2"
   ],
   "metadata": {
    "collapsed": false,
    "pycharm": {
     "name": "#%%\n"
    }
   }
  },
  {
   "cell_type": "code",
   "execution_count": 75,
   "outputs": [],
   "source": [
    "new_df = train_df.drop(['Dummy_column1','Dummy_column2'],axis=1)\n",
    "newt_df = test_df.drop(['Dummy_column1','Dummy_column2'],axis=1)"
   ],
   "metadata": {
    "collapsed": false,
    "pycharm": {
     "name": "#%%\n"
    }
   }
  },
  {
   "cell_type": "code",
   "execution_count": 76,
   "outputs": [],
   "source": [
    "new_df.to_csv('train_FD002.csv',index=False)\n",
    "newt_df.to_csv('train_FD002.csv',index=False)"
   ],
   "metadata": {
    "collapsed": false,
    "pycharm": {
     "name": "#%%\n"
    }
   }
  },
  {
   "cell_type": "code",
   "execution_count": 77,
   "outputs": [],
   "source": [
    "newt_df.to_csv('test_FD002.csv',index=False)"
   ],
   "metadata": {
    "collapsed": false,
    "pycharm": {
     "name": "#%%\n"
    }
   }
  },
  {
   "cell_type": "code",
   "execution_count": 78,
   "outputs": [
    {
     "data": {
      "text/plain": "   unit_number  time  op_setting1  op_setting2  op_setting3  sen_measurement1  \\\n0            1     1       9.9987       0.2502        100.0            489.05   \n1            1     2      20.0026       0.7000        100.0            491.19   \n2            1     3      35.0045       0.8400        100.0            449.44   \n3            1     4      42.0066       0.8410        100.0            445.00   \n4            1     5      24.9985       0.6213         60.0            462.54   \n\n   sen_measurement2  sen_measurement3  sen_measurement4  sen_measurement5  \\\n0            605.03           1497.17           1304.99             10.52   \n1            607.82           1481.20           1246.11              9.35   \n2            556.00           1359.08           1128.36              5.48   \n3            550.17           1349.69           1127.89              3.91   \n4            536.72           1253.18           1050.69              7.05   \n\n   ...  sen_measurement12  sen_measurement13  sen_measurement14  \\\n0  ...             371.69            2388.18            8114.10   \n1  ...             315.32            2388.12            8053.06   \n2  ...             183.04            2387.75            8053.04   \n3  ...             130.40            2387.72            8066.90   \n4  ...             164.56            2028.05            7865.66   \n\n   sen_measurement15  sen_measurement16  sen_measurement17  sen_measurement18  \\\n0             8.6476               0.03                369               2319   \n1             9.2405               0.02                364               2324   \n2             9.3472               0.02                333               2223   \n3             9.3961               0.02                332               2212   \n4            10.8682               0.02                305               1915   \n\n   sen_measurement19  sen_measurement20  sen_measurement21  \n0             100.00              28.42            17.1551  \n1             100.00              24.29            14.8039  \n2             100.00              14.98             8.9125  \n3             100.00              10.35             6.4181  \n4              84.93              14.31             8.5740  \n\n[5 rows x 26 columns]",
      "text/html": "<div>\n<style scoped>\n    .dataframe tbody tr th:only-of-type {\n        vertical-align: middle;\n    }\n\n    .dataframe tbody tr th {\n        vertical-align: top;\n    }\n\n    .dataframe thead th {\n        text-align: right;\n    }\n</style>\n<table border=\"1\" class=\"dataframe\">\n  <thead>\n    <tr style=\"text-align: right;\">\n      <th></th>\n      <th>unit_number</th>\n      <th>time</th>\n      <th>op_setting1</th>\n      <th>op_setting2</th>\n      <th>op_setting3</th>\n      <th>sen_measurement1</th>\n      <th>sen_measurement2</th>\n      <th>sen_measurement3</th>\n      <th>sen_measurement4</th>\n      <th>sen_measurement5</th>\n      <th>...</th>\n      <th>sen_measurement12</th>\n      <th>sen_measurement13</th>\n      <th>sen_measurement14</th>\n      <th>sen_measurement15</th>\n      <th>sen_measurement16</th>\n      <th>sen_measurement17</th>\n      <th>sen_measurement18</th>\n      <th>sen_measurement19</th>\n      <th>sen_measurement20</th>\n      <th>sen_measurement21</th>\n    </tr>\n  </thead>\n  <tbody>\n    <tr>\n      <th>0</th>\n      <td>1</td>\n      <td>1</td>\n      <td>9.9987</td>\n      <td>0.2502</td>\n      <td>100.0</td>\n      <td>489.05</td>\n      <td>605.03</td>\n      <td>1497.17</td>\n      <td>1304.99</td>\n      <td>10.52</td>\n      <td>...</td>\n      <td>371.69</td>\n      <td>2388.18</td>\n      <td>8114.10</td>\n      <td>8.6476</td>\n      <td>0.03</td>\n      <td>369</td>\n      <td>2319</td>\n      <td>100.00</td>\n      <td>28.42</td>\n      <td>17.1551</td>\n    </tr>\n    <tr>\n      <th>1</th>\n      <td>1</td>\n      <td>2</td>\n      <td>20.0026</td>\n      <td>0.7000</td>\n      <td>100.0</td>\n      <td>491.19</td>\n      <td>607.82</td>\n      <td>1481.20</td>\n      <td>1246.11</td>\n      <td>9.35</td>\n      <td>...</td>\n      <td>315.32</td>\n      <td>2388.12</td>\n      <td>8053.06</td>\n      <td>9.2405</td>\n      <td>0.02</td>\n      <td>364</td>\n      <td>2324</td>\n      <td>100.00</td>\n      <td>24.29</td>\n      <td>14.8039</td>\n    </tr>\n    <tr>\n      <th>2</th>\n      <td>1</td>\n      <td>3</td>\n      <td>35.0045</td>\n      <td>0.8400</td>\n      <td>100.0</td>\n      <td>449.44</td>\n      <td>556.00</td>\n      <td>1359.08</td>\n      <td>1128.36</td>\n      <td>5.48</td>\n      <td>...</td>\n      <td>183.04</td>\n      <td>2387.75</td>\n      <td>8053.04</td>\n      <td>9.3472</td>\n      <td>0.02</td>\n      <td>333</td>\n      <td>2223</td>\n      <td>100.00</td>\n      <td>14.98</td>\n      <td>8.9125</td>\n    </tr>\n    <tr>\n      <th>3</th>\n      <td>1</td>\n      <td>4</td>\n      <td>42.0066</td>\n      <td>0.8410</td>\n      <td>100.0</td>\n      <td>445.00</td>\n      <td>550.17</td>\n      <td>1349.69</td>\n      <td>1127.89</td>\n      <td>3.91</td>\n      <td>...</td>\n      <td>130.40</td>\n      <td>2387.72</td>\n      <td>8066.90</td>\n      <td>9.3961</td>\n      <td>0.02</td>\n      <td>332</td>\n      <td>2212</td>\n      <td>100.00</td>\n      <td>10.35</td>\n      <td>6.4181</td>\n    </tr>\n    <tr>\n      <th>4</th>\n      <td>1</td>\n      <td>5</td>\n      <td>24.9985</td>\n      <td>0.6213</td>\n      <td>60.0</td>\n      <td>462.54</td>\n      <td>536.72</td>\n      <td>1253.18</td>\n      <td>1050.69</td>\n      <td>7.05</td>\n      <td>...</td>\n      <td>164.56</td>\n      <td>2028.05</td>\n      <td>7865.66</td>\n      <td>10.8682</td>\n      <td>0.02</td>\n      <td>305</td>\n      <td>1915</td>\n      <td>84.93</td>\n      <td>14.31</td>\n      <td>8.5740</td>\n    </tr>\n  </tbody>\n</table>\n<p>5 rows × 26 columns</p>\n</div>"
     },
     "execution_count": 78,
     "metadata": {},
     "output_type": "execute_result"
    }
   ],
   "source": [
    "sample = pd.read_csv('test_FD002.csv')\n",
    "sample.head()"
   ],
   "metadata": {
    "collapsed": false,
    "pycharm": {
     "name": "#%%\n"
    }
   }
  }
 ],
 "metadata": {
  "kernelspec": {
   "display_name": "Python 3",
   "language": "python",
   "name": "python3"
  },
  "language_info": {
   "codemirror_mode": {
    "name": "ipython",
    "version": 2
   },
   "file_extension": ".py",
   "mimetype": "text/x-python",
   "name": "python",
   "nbconvert_exporter": "python",
   "pygments_lexer": "ipython2",
   "version": "2.7.6"
  }
 },
 "nbformat": 4,
 "nbformat_minor": 0
}
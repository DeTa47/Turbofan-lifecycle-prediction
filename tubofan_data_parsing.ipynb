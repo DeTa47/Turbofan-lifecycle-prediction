{
 "cells": [
  {
   "cell_type": "code",
   "execution_count": 13,
   "metadata": {
    "collapsed": true,
    "pycharm": {
     "name": "#%%\n"
    }
   },
   "outputs": [],
   "source": [
    "import pandas as pd"
   ]
  },
  {
   "cell_type": "code",
   "execution_count": 14,
   "outputs": [
    {
     "name": "stdout",
     "output_type": "stream",
     "text": [
      "['unit_number', 'time', 'op_setting1', 'op_setting2', 'op_setting3', 'sen_measurement1', 'sen_measurement2', 'sen_measurement3', 'sen_measurement4', 'sen_measurement5', 'sen_measurement6', 'sen_measurement7', 'sen_measurement8', 'sen_measurement9', 'sen_measurement10', 'sen_measurement11', 'sen_measurement12', 'sen_measurement13', 'sen_measurement14', 'sen_measurement15', 'sen_measurement16', 'sen_measurement17', 'sen_measurement18', 'sen_measurement19', 'sen_measurement20', 'sen_measurement21'] \n",
      "Column length: 26\n"
     ]
    }
   ],
   "source": [
    "column = ['unit_number','time','op_setting1','op_setting2','op_setting3']\n",
    "for i in range (0,21):\n",
    "        let = str(i+1)\n",
    "        word = 'sen_measurement'+let\n",
    "        column.append(word)\n",
    "print(column,'\\nColumn length:',len(column))"
   ],
   "metadata": {
    "collapsed": false,
    "pycharm": {
     "name": "#%%\n"
    }
   }
  },
  {
   "cell_type": "code",
   "execution_count": 15,
   "outputs": [
    {
     "name": "stdout",
     "output_type": "stream",
     "text": [
      "['unit_number', 'time', 'op_setting1', 'op_setting2', 'op_setting3', 'sen_measurement1', 'sen_measurement2', 'sen_measurement3', 'sen_measurement4', 'sen_measurement5', 'sen_measurement6', 'sen_measurement7', 'sen_measurement8', 'sen_measurement9', 'sen_measurement10', 'sen_measurement11', 'sen_measurement12', 'sen_measurement13', 'sen_measurement14', 'sen_measurement15', 'sen_measurement16', 'sen_measurement17', 'sen_measurement18', 'sen_measurement19', 'sen_measurement20', 'sen_measurement21', 'Dummy_column1', 'Dummy_column2'] \n",
      "Column length: 28\n"
     ]
    }
   ],
   "source": [
    "column.append('Dummy_column1')\n",
    "column.append('Dummy_column2')\n",
    "print(column,'\\nColumn length:',len(column))"
   ],
   "metadata": {
    "collapsed": false,
    "pycharm": {
     "name": "#%%\n"
    }
   }
  },
  {
   "cell_type": "code",
   "execution_count": 16,
   "outputs": [],
   "source": [
    "train_df = pd.read_csv('Turbofan engine/train_FD001.txt', sep=' ',header=None)"
   ],
   "metadata": {
    "collapsed": false,
    "pycharm": {
     "name": "#%%\n"
    }
   }
  },
  {
   "cell_type": "code",
   "execution_count": 17,
   "outputs": [],
   "source": [
    "train_df.columns = column"
   ],
   "metadata": {
    "collapsed": false,
    "pycharm": {
     "name": "#%%\n"
    }
   }
  },
  {
   "cell_type": "code",
   "execution_count": 20,
   "outputs": [],
   "source": [
    "train_df = train_df.drop(['Dummy_column1','Dummy_column2'],axis=1)"
   ],
   "metadata": {
    "collapsed": false,
    "pycharm": {
     "name": "#%%\n"
    }
   }
  },
  {
   "cell_type": "code",
   "execution_count": 21,
   "outputs": [
    {
     "data": {
      "text/plain": "   unit_number  time  op_setting1  op_setting2  op_setting3  sen_measurement1  \\\n0            1     1      -0.0007      -0.0004        100.0            518.67   \n1            1     2       0.0019      -0.0003        100.0            518.67   \n2            1     3      -0.0043       0.0003        100.0            518.67   \n3            1     4       0.0007       0.0000        100.0            518.67   \n4            1     5      -0.0019      -0.0002        100.0            518.67   \n\n   sen_measurement2  sen_measurement3  sen_measurement4  sen_measurement5  \\\n0            641.82           1589.70           1400.60             14.62   \n1            642.15           1591.82           1403.14             14.62   \n2            642.35           1587.99           1404.20             14.62   \n3            642.35           1582.79           1401.87             14.62   \n4            642.37           1582.85           1406.22             14.62   \n\n   ...  sen_measurement13  sen_measurement14  sen_measurement15  \\\n0  ...            2388.02            8138.62             8.4195   \n1  ...            2388.07            8131.49             8.4318   \n2  ...            2388.03            8133.23             8.4178   \n3  ...            2388.08            8133.83             8.3682   \n4  ...            2388.04            8133.80             8.4294   \n\n   sen_measurement16  sen_measurement17  sen_measurement18  sen_measurement19  \\\n0               0.03                392               2388              100.0   \n1               0.03                392               2388              100.0   \n2               0.03                390               2388              100.0   \n3               0.03                392               2388              100.0   \n4               0.03                393               2388              100.0   \n\n   sen_measurement20  sen_measurement21  RUL  \n0              39.06            23.4190  191  \n1              39.00            23.4236  190  \n2              38.95            23.3442  189  \n3              38.88            23.3739  188  \n4              38.90            23.4044  187  \n\n[5 rows x 27 columns]",
      "text/html": "<div>\n<style scoped>\n    .dataframe tbody tr th:only-of-type {\n        vertical-align: middle;\n    }\n\n    .dataframe tbody tr th {\n        vertical-align: top;\n    }\n\n    .dataframe thead th {\n        text-align: right;\n    }\n</style>\n<table border=\"1\" class=\"dataframe\">\n  <thead>\n    <tr style=\"text-align: right;\">\n      <th></th>\n      <th>unit_number</th>\n      <th>time</th>\n      <th>op_setting1</th>\n      <th>op_setting2</th>\n      <th>op_setting3</th>\n      <th>sen_measurement1</th>\n      <th>sen_measurement2</th>\n      <th>sen_measurement3</th>\n      <th>sen_measurement4</th>\n      <th>sen_measurement5</th>\n      <th>...</th>\n      <th>sen_measurement13</th>\n      <th>sen_measurement14</th>\n      <th>sen_measurement15</th>\n      <th>sen_measurement16</th>\n      <th>sen_measurement17</th>\n      <th>sen_measurement18</th>\n      <th>sen_measurement19</th>\n      <th>sen_measurement20</th>\n      <th>sen_measurement21</th>\n      <th>RUL</th>\n    </tr>\n  </thead>\n  <tbody>\n    <tr>\n      <th>0</th>\n      <td>1</td>\n      <td>1</td>\n      <td>-0.0007</td>\n      <td>-0.0004</td>\n      <td>100.0</td>\n      <td>518.67</td>\n      <td>641.82</td>\n      <td>1589.70</td>\n      <td>1400.60</td>\n      <td>14.62</td>\n      <td>...</td>\n      <td>2388.02</td>\n      <td>8138.62</td>\n      <td>8.4195</td>\n      <td>0.03</td>\n      <td>392</td>\n      <td>2388</td>\n      <td>100.0</td>\n      <td>39.06</td>\n      <td>23.4190</td>\n      <td>191</td>\n    </tr>\n    <tr>\n      <th>1</th>\n      <td>1</td>\n      <td>2</td>\n      <td>0.0019</td>\n      <td>-0.0003</td>\n      <td>100.0</td>\n      <td>518.67</td>\n      <td>642.15</td>\n      <td>1591.82</td>\n      <td>1403.14</td>\n      <td>14.62</td>\n      <td>...</td>\n      <td>2388.07</td>\n      <td>8131.49</td>\n      <td>8.4318</td>\n      <td>0.03</td>\n      <td>392</td>\n      <td>2388</td>\n      <td>100.0</td>\n      <td>39.00</td>\n      <td>23.4236</td>\n      <td>190</td>\n    </tr>\n    <tr>\n      <th>2</th>\n      <td>1</td>\n      <td>3</td>\n      <td>-0.0043</td>\n      <td>0.0003</td>\n      <td>100.0</td>\n      <td>518.67</td>\n      <td>642.35</td>\n      <td>1587.99</td>\n      <td>1404.20</td>\n      <td>14.62</td>\n      <td>...</td>\n      <td>2388.03</td>\n      <td>8133.23</td>\n      <td>8.4178</td>\n      <td>0.03</td>\n      <td>390</td>\n      <td>2388</td>\n      <td>100.0</td>\n      <td>38.95</td>\n      <td>23.3442</td>\n      <td>189</td>\n    </tr>\n    <tr>\n      <th>3</th>\n      <td>1</td>\n      <td>4</td>\n      <td>0.0007</td>\n      <td>0.0000</td>\n      <td>100.0</td>\n      <td>518.67</td>\n      <td>642.35</td>\n      <td>1582.79</td>\n      <td>1401.87</td>\n      <td>14.62</td>\n      <td>...</td>\n      <td>2388.08</td>\n      <td>8133.83</td>\n      <td>8.3682</td>\n      <td>0.03</td>\n      <td>392</td>\n      <td>2388</td>\n      <td>100.0</td>\n      <td>38.88</td>\n      <td>23.3739</td>\n      <td>188</td>\n    </tr>\n    <tr>\n      <th>4</th>\n      <td>1</td>\n      <td>5</td>\n      <td>-0.0019</td>\n      <td>-0.0002</td>\n      <td>100.0</td>\n      <td>518.67</td>\n      <td>642.37</td>\n      <td>1582.85</td>\n      <td>1406.22</td>\n      <td>14.62</td>\n      <td>...</td>\n      <td>2388.04</td>\n      <td>8133.80</td>\n      <td>8.4294</td>\n      <td>0.03</td>\n      <td>393</td>\n      <td>2388</td>\n      <td>100.0</td>\n      <td>38.90</td>\n      <td>23.4044</td>\n      <td>187</td>\n    </tr>\n  </tbody>\n</table>\n<p>5 rows × 27 columns</p>\n</div>"
     },
     "execution_count": 21,
     "metadata": {},
     "output_type": "execute_result"
    }
   ],
   "source": [
    "rul = pd.DataFrame(train_df.groupby('unit_number')['time'].max()).reset_index()\n",
    "rul.columns = ['unit_number', 'max']\n",
    "train_df = train_df.merge(rul, on=['unit_number'], how='left')\n",
    "train_df['RUL'] = train_df['max'] - train_df['time']\n",
    "train_df.drop('max', axis=1, inplace=True)\n",
    "train_df.head()"
   ],
   "metadata": {
    "collapsed": false,
    "pycharm": {
     "name": "#%%\n"
    }
   }
  },
  {
   "cell_type": "code",
   "execution_count": 22,
   "outputs": [],
   "source": [
    "train_df.to_csv('train_FD001.csv', index=False)"
   ],
   "metadata": {
    "collapsed": false,
    "pycharm": {
     "name": "#%%\n"
    }
   }
  },
  {
   "cell_type": "code",
   "execution_count": 23,
   "outputs": [
    {
     "data": {
      "text/plain": "   unit_number  time  op_setting1  op_setting2  op_setting3  sen_measurement1  \\\n0            1     1      -0.0007      -0.0004        100.0            518.67   \n1            1     2       0.0019      -0.0003        100.0            518.67   \n2            1     3      -0.0043       0.0003        100.0            518.67   \n3            1     4       0.0007       0.0000        100.0            518.67   \n4            1     5      -0.0019      -0.0002        100.0            518.67   \n\n   sen_measurement2  sen_measurement3  sen_measurement4  sen_measurement5  \\\n0            641.82           1589.70           1400.60             14.62   \n1            642.15           1591.82           1403.14             14.62   \n2            642.35           1587.99           1404.20             14.62   \n3            642.35           1582.79           1401.87             14.62   \n4            642.37           1582.85           1406.22             14.62   \n\n   ...  sen_measurement13  sen_measurement14  sen_measurement15  \\\n0  ...            2388.02            8138.62             8.4195   \n1  ...            2388.07            8131.49             8.4318   \n2  ...            2388.03            8133.23             8.4178   \n3  ...            2388.08            8133.83             8.3682   \n4  ...            2388.04            8133.80             8.4294   \n\n   sen_measurement16  sen_measurement17  sen_measurement18  sen_measurement19  \\\n0               0.03                392               2388              100.0   \n1               0.03                392               2388              100.0   \n2               0.03                390               2388              100.0   \n3               0.03                392               2388              100.0   \n4               0.03                393               2388              100.0   \n\n   sen_measurement20  sen_measurement21  RUL  \n0              39.06            23.4190  191  \n1              39.00            23.4236  190  \n2              38.95            23.3442  189  \n3              38.88            23.3739  188  \n4              38.90            23.4044  187  \n\n[5 rows x 27 columns]",
      "text/html": "<div>\n<style scoped>\n    .dataframe tbody tr th:only-of-type {\n        vertical-align: middle;\n    }\n\n    .dataframe tbody tr th {\n        vertical-align: top;\n    }\n\n    .dataframe thead th {\n        text-align: right;\n    }\n</style>\n<table border=\"1\" class=\"dataframe\">\n  <thead>\n    <tr style=\"text-align: right;\">\n      <th></th>\n      <th>unit_number</th>\n      <th>time</th>\n      <th>op_setting1</th>\n      <th>op_setting2</th>\n      <th>op_setting3</th>\n      <th>sen_measurement1</th>\n      <th>sen_measurement2</th>\n      <th>sen_measurement3</th>\n      <th>sen_measurement4</th>\n      <th>sen_measurement5</th>\n      <th>...</th>\n      <th>sen_measurement13</th>\n      <th>sen_measurement14</th>\n      <th>sen_measurement15</th>\n      <th>sen_measurement16</th>\n      <th>sen_measurement17</th>\n      <th>sen_measurement18</th>\n      <th>sen_measurement19</th>\n      <th>sen_measurement20</th>\n      <th>sen_measurement21</th>\n      <th>RUL</th>\n    </tr>\n  </thead>\n  <tbody>\n    <tr>\n      <th>0</th>\n      <td>1</td>\n      <td>1</td>\n      <td>-0.0007</td>\n      <td>-0.0004</td>\n      <td>100.0</td>\n      <td>518.67</td>\n      <td>641.82</td>\n      <td>1589.70</td>\n      <td>1400.60</td>\n      <td>14.62</td>\n      <td>...</td>\n      <td>2388.02</td>\n      <td>8138.62</td>\n      <td>8.4195</td>\n      <td>0.03</td>\n      <td>392</td>\n      <td>2388</td>\n      <td>100.0</td>\n      <td>39.06</td>\n      <td>23.4190</td>\n      <td>191</td>\n    </tr>\n    <tr>\n      <th>1</th>\n      <td>1</td>\n      <td>2</td>\n      <td>0.0019</td>\n      <td>-0.0003</td>\n      <td>100.0</td>\n      <td>518.67</td>\n      <td>642.15</td>\n      <td>1591.82</td>\n      <td>1403.14</td>\n      <td>14.62</td>\n      <td>...</td>\n      <td>2388.07</td>\n      <td>8131.49</td>\n      <td>8.4318</td>\n      <td>0.03</td>\n      <td>392</td>\n      <td>2388</td>\n      <td>100.0</td>\n      <td>39.00</td>\n      <td>23.4236</td>\n      <td>190</td>\n    </tr>\n    <tr>\n      <th>2</th>\n      <td>1</td>\n      <td>3</td>\n      <td>-0.0043</td>\n      <td>0.0003</td>\n      <td>100.0</td>\n      <td>518.67</td>\n      <td>642.35</td>\n      <td>1587.99</td>\n      <td>1404.20</td>\n      <td>14.62</td>\n      <td>...</td>\n      <td>2388.03</td>\n      <td>8133.23</td>\n      <td>8.4178</td>\n      <td>0.03</td>\n      <td>390</td>\n      <td>2388</td>\n      <td>100.0</td>\n      <td>38.95</td>\n      <td>23.3442</td>\n      <td>189</td>\n    </tr>\n    <tr>\n      <th>3</th>\n      <td>1</td>\n      <td>4</td>\n      <td>0.0007</td>\n      <td>0.0000</td>\n      <td>100.0</td>\n      <td>518.67</td>\n      <td>642.35</td>\n      <td>1582.79</td>\n      <td>1401.87</td>\n      <td>14.62</td>\n      <td>...</td>\n      <td>2388.08</td>\n      <td>8133.83</td>\n      <td>8.3682</td>\n      <td>0.03</td>\n      <td>392</td>\n      <td>2388</td>\n      <td>100.0</td>\n      <td>38.88</td>\n      <td>23.3739</td>\n      <td>188</td>\n    </tr>\n    <tr>\n      <th>4</th>\n      <td>1</td>\n      <td>5</td>\n      <td>-0.0019</td>\n      <td>-0.0002</td>\n      <td>100.0</td>\n      <td>518.67</td>\n      <td>642.37</td>\n      <td>1582.85</td>\n      <td>1406.22</td>\n      <td>14.62</td>\n      <td>...</td>\n      <td>2388.04</td>\n      <td>8133.80</td>\n      <td>8.4294</td>\n      <td>0.03</td>\n      <td>393</td>\n      <td>2388</td>\n      <td>100.0</td>\n      <td>38.90</td>\n      <td>23.4044</td>\n      <td>187</td>\n    </tr>\n  </tbody>\n</table>\n<p>5 rows × 27 columns</p>\n</div>"
     },
     "execution_count": 23,
     "metadata": {},
     "output_type": "execute_result"
    }
   ],
   "source": [
    "check = pd.read_csv('train_FD001.csv')\n",
    "check.head()"
   ],
   "metadata": {
    "collapsed": false,
    "pycharm": {
     "name": "#%%\n"
    }
   }
  }
 ],
 "metadata": {
  "kernelspec": {
   "display_name": "Python 3",
   "language": "python",
   "name": "python3"
  },
  "language_info": {
   "codemirror_mode": {
    "name": "ipython",
    "version": 2
   },
   "file_extension": ".py",
   "mimetype": "text/x-python",
   "name": "python",
   "nbconvert_exporter": "python",
   "pygments_lexer": "ipython2",
   "version": "2.7.6"
  }
 },
 "nbformat": 4,
 "nbformat_minor": 0
}